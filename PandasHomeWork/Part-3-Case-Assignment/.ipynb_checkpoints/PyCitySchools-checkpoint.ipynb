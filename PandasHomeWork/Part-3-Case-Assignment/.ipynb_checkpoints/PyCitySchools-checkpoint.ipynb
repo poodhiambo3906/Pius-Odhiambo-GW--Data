{
 "cells": [
  {
   "cell_type": "markdown",
   "metadata": {},
   "source": [
    "# PyCity Schools Analysis\n",
    "\n",
    "* In general Schools with higher budgets, did not yield better test results. By contrast, schools with higher spending per student actually (\\$645-675) underperformed compared to schools with smaller budgets (<\\$585 per student).\n",
    "\n",
    "* In general smaller and medium sized schools dramatically out-performed large sized schools on passing math performances (89-91% passing vs 67%).\n",
    "\n",
    "* In general charter schools out-performed the public district schools across all metrics. However, more analysis will be required to glean if the effect is due to school practices or the fact that charter schools tend to serve smaller student populations per school. \n",
    "---"
   ]
  },
  {
   "cell_type": "code",
   "execution_count": null,
   "metadata": {},
   "outputs": [],
   "source": [
    "# Dependencies and Setup\n",
    "import pandas as pd\n",
    "\n",
    "# File to Load (Remember to Change These)\n",
    "school_data_to_load = \"Resources/schools_complete.csv\"\n",
    "student_data_to_load = \"Resources/students_complete.csv\"\n",
    "\n",
    "# Read School and Student Data File and store into Pandas Data Frames\n",
    "school_data = pd.read_csv(school_data_to_load)\n",
    "student_data = pd.read_csv(student_data_to_load)\n",
    "\n",
    "# Combine the data into a single dataset\n",
    "school_data_complete = pd.merge(student_data, school_data, how=\"left\", on=[\"school_name\", \"school_name\"])\n",
    "\n",
    "school_data_complete"
   ]
  },
  {
   "cell_type": "code",
   "execution_count": null,
   "metadata": {},
   "outputs": [],
   "source": [
    "## This is alternate logic\n",
    "passed_reading = school_data_complete[\"reading_score\"] >= 70\n",
    "passed_math = school_data_complete[\"math_score\"] >= 70\n",
    "passed_both = school_data_complete.loc[passed_reading & passed_math]\n",
    "\n",
    "passed_reading = school_data_complete.loc[passed_reading]\n",
    "passed_math = school_data_complete.loc[passed_math]\n",
    "total_students = len(school_data_complete)\n",
    "\n",
    "pct_passed_reading = len(passed_reading)/total_students\n",
    "pct_passed_math = len(passed_math)/total_students\n",
    "pct_passed_both = len(passed_both)/total_students\n",
    "avg_reading_math_passing_rate = (pct_passed_reading + pct_passed_math) / 2\n",
    "\n",
    "print(f'% Passed Reading: {pct_passed_reading}')\n",
    "print(f'% Passed Math: {pct_passed_math}')\n",
    "print(f'% Passed Both: {pct_passed_both}')\n",
    "print(f'% Average of Reading and Math Passing Rates: {avg_reading_math_passing_rate}')"
   ]
  },
  {
   "cell_type": "code",
   "execution_count": null,
   "metadata": {},
   "outputs": [],
   "source": [
    "passed_reading = school_data_complete.loc[school_data_complete[\"reading_score\"] >= 70]\n",
    "passed_math = school_data_complete.loc[school_data_complete[\"math_score\"] >= 70]\n",
    "passed_both = school_data_complete.loc[passed_reading.index & passed_math.index]"
   ]
  },
  {
   "cell_type": "code",
   "execution_count": null,
   "metadata": {
    "scrolled": true
   },
   "outputs": [],
   "source": [
    "passed_both"
   ]
  },
  {
   "cell_type": "code",
   "execution_count": null,
   "metadata": {},
   "outputs": [],
   "source": [
    "passed_reading = school_data_complete.loc[school_data_complete[\"reading_score\"] >= 70]\n",
    "passed_math = school_data_complete.loc[school_data_complete[\"math_score\"] >= 70]\n",
    "passed_both = school_data_complete.loc[passed_reading.index & passed_math.index]\n",
    "    # use df.index to get only the indexes of the records\n",
    "    # these indices will be used to filter out records in the loc function\n",
    "\n",
    "pct_passed_reading = len(passed_reading)/total_students\n",
    "pct_passed_math = len(passed_math)/total_students\n",
    "pct_passed_both = len(passed_both)/total_students\n",
    "    # this is more appropriate for analytical purposes\n",
    "avg_reading_math_passing_rate = (pct_passed_reading + pct_passed_math) / 2\n",
    "    # this is what the original assignment calls for (the avg of both reading and math passing rates)\n",
    "\n",
    "print(f'% Passed Reading: {pct_passed_reading}')\n",
    "print(f'% Passed Math: {pct_passed_math}')\n",
    "print(f'% Passed Both: {pct_passed_both}')\n",
    "    # displays the % of students who passed both reading and math (more precise for analytical purposes)\n",
    "print(f'% Average of Reading and Math Passing Rates: {avg_reading_math_passing_rate}')\n",
    "    # displays the average of both reading and math passing rates"
   ]
  },
  {
   "cell_type": "code",
   "execution_count": null,
   "metadata": {},
   "outputs": [],
   "source": [
    "passed_math"
   ]
  },
  {
   "cell_type": "code",
   "execution_count": null,
   "metadata": {},
   "outputs": [],
   "source": [
    "numerator = len(school_data_complete.loc[(school_data_complete[\"reading_score\"] >= 70) & (school_data_complete[\"math_score\"] >= 70)])"
   ]
  },
  {
   "cell_type": "code",
   "execution_count": null,
   "metadata": {},
   "outputs": [],
   "source": [
    "numerator = len(school_data_complete.loc[(school_data_complete[\"reading_score\"] >= 70) | (school_data_complete[\"math_score\"] >= 70)])\n",
    "numerator\n",
    "print(numerator/total_students)"
   ]
  },
  {
   "cell_type": "code",
   "execution_count": null,
   "metadata": {},
   "outputs": [],
   "source": [
    "math_numerator = len(school_data_complete.loc[school_data_complete[\"math_score\"] >= 70])\n",
    "math_numerator"
   ]
  },
  {
   "cell_type": "code",
   "execution_count": null,
   "metadata": {},
   "outputs": [],
   "source": [
    "total_students = len(school_data_complete)\n",
    "total_students"
   ]
  },
  {
   "cell_type": "markdown",
   "metadata": {},
   "source": [
    "## District Summary"
   ]
  },
  {
   "cell_type": "code",
   "execution_count": null,
   "metadata": {},
   "outputs": [],
   "source": [
    "# Calculate the Totals (Schools and Students)\n",
    "school_count = len(school_data_complete[\"school_name\"].unique())\n",
    "student_count = school_data_complete[\"Student ID\"].count()\n",
    "\n",
    "# Calculate the Total Budget\n",
    "total_budget = school_data[\"budget\"].sum()\n",
    "\n",
    "# Calculate the Average Scores\n",
    "average_math_score = school_data_complete[\"math_score\"].mean()\n",
    "average_reading_score = school_data_complete[\"reading_score\"].mean()\n",
    "overall_passing_rate = (average_math_score + average_reading_score) / 2\n",
    "\n",
    "# Calculate the Percentage Pass Rates\n",
    "passing_math_count = school_data_complete[(school_data_complete[\"math_score\"] >= 70)].count()[\"student_name\"]\n",
    "passing_math_percentage = passing_math_count / float(student_count) * 100\n",
    "passing_reading_count = school_data_complete[(school_data_complete[\"reading_score\"] >= 70)].count()[\"student_name\"]\n",
    "passing_reading_percentage = passing_reading_count / float(student_count) * 100\n",
    "\n",
    "# Minor Data Cleanup\n",
    "district_summary = pd.DataFrame({\"Total Schools\": [school_count], \n",
    "                                 \"Total Students\": [student_count], \n",
    "                                 \"Total Budget\": [total_budget],\n",
    "                                 \"Average Math Score\": [average_math_score], \n",
    "                                 \"Average Reading Score\": [average_reading_score],\n",
    "                                 \"% Passing Math\": [passing_math_percentage],\n",
    "                                 \"% Passing Reading\": [passing_reading_percentage],\n",
    "                                 \"% Overall Passing Rate\": [overall_passing_rate]})\n",
    "\n",
    "district_summary = district_summary[[\"Total Schools\", \"Total Students\", \"Total Budget\",\n",
    "                                     \"Average Math Score\", \n",
    "                                     \"Average Reading Score\",\n",
    "                                     \"% Passing Math\",\n",
    "                                     \"% Passing Reading\",\n",
    "                                     \"% Overall Passing Rate\"]]\n",
    "\n",
    "district_summary[\"Total Students\"] = district_summary[\"Total Students\"].map(\"{:,}\".format)\n",
    "district_summary[\"Total Budget\"] = district_summary[\"Total Budget\"].map(\"${:,.2f}\".format)\n",
    "\n",
    "# Display the data frame\n",
    "district_summary"
   ]
  },
  {
   "cell_type": "markdown",
   "metadata": {},
   "source": [
    "## School Summary"
   ]
  },
  {
   "cell_type": "code",
   "execution_count": null,
   "metadata": {},
   "outputs": [],
   "source": [
    "math_passing = school_data_complete.loc[school_data_complete['math_score'] >= 70]\n",
    "math_passing\n",
    "math_passing_group = math_passing.groupby('school_name').count()\n",
    "passed_math_by_school = math_passing_group['Student ID']"
   ]
  },
  {
   "cell_type": "code",
   "execution_count": null,
   "metadata": {},
   "outputs": [],
   "source": [
    "ttl_sch_group = school_data_complete.groupby('school_name')\n",
    "ttl_sch_group_counts = ttl_sch_group.count()\n",
    "total_students_by_school = ttl_sch_group_counts['Student ID']"
   ]
  },
  {
   "cell_type": "code",
   "execution_count": null,
   "metadata": {},
   "outputs": [],
   "source": [
    "passed_math_by_school / total_students_by_school"
   ]
  },
  {
   "cell_type": "code",
   "execution_count": null,
   "metadata": {},
   "outputs": [],
   "source": [
    "school_data_complete"
   ]
  },
  {
   "cell_type": "code",
   "execution_count": null,
   "metadata": {},
   "outputs": [],
   "source": [
    "# Determine the School Type\n",
    "school_types = school_data.set_index([\"school_name\"])[\"type\"]\n",
    "\n",
    "# Calculate the total student count\n",
    "per_school_counts = school_data_complete[\"school_name\"].value_counts()\n",
    "\n",
    "# Calculate the total school budget and per capita spending\n",
    "per_school_budget = school_data_complete.groupby([\"school_name\"]).mean()[\"budget\"]\n",
    "per_school_capita = per_school_budget / per_school_counts\n",
    "\n",
    "# Calculate the average test scores\n",
    "per_school_math = school_data_complete.groupby([\"school_name\"]).mean()[\"math_score\"]\n",
    "per_school_reading = school_data_complete.groupby([\"school_name\"]).mean()[\"reading_score\"]\n",
    "\n",
    "# Calculate the passing scores by creating a filtered data frame\n",
    "school_passing_math = school_data_complete[(school_data_complete[\"math_score\"] >= 70)]\n",
    "school_passing_reading = school_data_complete[(school_data_complete[\"reading_score\"] >= 70)]\n",
    "\n",
    "per_school_passing_math = school_passing_math.groupby([\"school_name\"]).count()[\"student_name\"] / per_school_counts * 100\n",
    "per_school_passing_reading = school_passing_reading.groupby([\"school_name\"]).count()[\"student_name\"] / per_school_counts * 100\n",
    "overall_passing_rate = (per_school_passing_math + per_school_passing_reading) / 2\n",
    "\n",
    "# Convert to data frame\n",
    "per_school_summary = pd.DataFrame({\"School Type\": school_types,\n",
    "                                   \"Total Students\": per_school_counts,\n",
    "                                   \"Total School Budget\": per_school_budget,\n",
    "                                   \"Per Student Budget\": per_school_capita,\n",
    "                                   \"Average Math Score\": per_school_math,\n",
    "                                   \"Average Reading Score\": per_school_reading,\n",
    "                                   \"% Passing Math\": per_school_passing_math,\n",
    "                                   \"% Passing Reading\": per_school_passing_reading,\n",
    "                                   \"% Overall Passing Rate\": overall_passing_rate})\n",
    "\n",
    "# Minor data munging\n",
    "per_school_summary = per_school_summary[[\"School Type\", \"Total Students\", \"Total School Budget\", \"Per Student Budget\",\n",
    "                                         \"Average Math Score\", \"Average Reading Score\", \n",
    "                                         \"% Passing Math\", \"% Passing Reading\", \n",
    "                                         \"% Overall Passing Rate\"]]\n",
    "per_school_summary[\"Total School Budget\"] = per_school_summary[\"Total School Budget\"].map(\"${:,.2f}\".format)\n",
    "per_school_summary[\"Per Student Budget\"] = per_school_summary[\"Per Student Budget\"].map(\"${:,.2f}\".format)\n",
    "\n",
    "# Display the data frame\n",
    "per_school_summary"
   ]
  },
  {
   "cell_type": "code",
   "execution_count": null,
   "metadata": {},
   "outputs": [],
   "source": [
    "per_school_budget"
   ]
  },
  {
   "cell_type": "code",
   "execution_count": null,
   "metadata": {},
   "outputs": [],
   "source": [
    "school_data_complete"
   ]
  },
  {
   "cell_type": "markdown",
   "metadata": {},
   "source": [
    "## Top Performing Schools (By Passing Rate)"
   ]
  },
  {
   "cell_type": "code",
   "execution_count": null,
   "metadata": {
    "scrolled": true
   },
   "outputs": [],
   "source": [
    "# Sort and show top five schools\n",
    "top_schools = per_school_summary.sort_values([\"% Overall Passing Rate\"], ascending=False)\n",
    "top_schools.head(5)"
   ]
  },
  {
   "cell_type": "markdown",
   "metadata": {},
   "source": [
    "## Bottom Performing Schools (By Passing Rate)"
   ]
  },
  {
   "cell_type": "code",
   "execution_count": null,
   "metadata": {},
   "outputs": [],
   "source": [
    "# Sort and show bottom five schools\n",
    "bottom_schools = per_school_summary.sort_values([\"% Overall Passing Rate\"], ascending=True)\n",
    "bottom_schools.head(5)"
   ]
  },
  {
   "cell_type": "markdown",
   "metadata": {
    "collapsed": true
   },
   "source": [
    "## Math Scores by Grade"
   ]
  },
  {
   "cell_type": "code",
   "execution_count": null,
   "metadata": {},
   "outputs": [],
   "source": [
    "# Create data series of scores by grade levels using conditionals\n",
    "ninth_graders = school_data_complete[(school_data_complete[\"grade\"] == \"9th\")]\n",
    "tenth_graders = school_data_complete[(school_data_complete[\"grade\"] == \"10th\")]\n",
    "eleventh_graders = school_data_complete[(school_data_complete[\"grade\"] == \"11th\")]\n",
    "twelfth_graders = school_data_complete[(school_data_complete[\"grade\"] == \"12th\")]\n",
    "\n",
    "# Group each by school name\n",
    "ninth_graders_scores = ninth_graders.groupby([\"school_name\"]).mean()[\"math_score\"]\n",
    "tenth_graders_scores = tenth_graders.groupby([\"school_name\"]).mean()[\"math_score\"]\n",
    "eleventh_graders_scores = eleventh_graders.groupby([\"school_name\"]).mean()[\"math_score\"]\n",
    "twelfth_graders_scores = twelfth_graders.groupby([\"school_name\"]).mean()[\"math_score\"]\n",
    "\n",
    "# Combine series into single data frame\n",
    "scores_by_grade = pd.DataFrame({\"9th\": ninth_graders_scores, \"10th\": tenth_graders_scores,\n",
    "                                \"11th\": eleventh_graders_scores, \"12th\": twelfth_graders_scores})\n",
    "\n",
    "# Minor data munging\n",
    "scores_by_grade = scores_by_grade[[\"9th\", \"10th\", \"11th\", \"12th\"]]\n",
    "scores_by_grade.index.name = None\n",
    "\n",
    "# Display the data frame\n",
    "scores_by_grade"
   ]
  },
  {
   "cell_type": "markdown",
   "metadata": {},
   "source": [
    "## Reading Score by Grade "
   ]
  },
  {
   "cell_type": "code",
   "execution_count": null,
   "metadata": {},
   "outputs": [],
   "source": [
    "# Create data series of scores by grade levels using conditionals\n",
    "ninth_graders = school_data_complete[(school_data_complete[\"grade\"] == \"9th\")]\n",
    "tenth_graders = school_data_complete[(school_data_complete[\"grade\"] == \"10th\")]\n",
    "eleventh_graders = school_data_complete[(school_data_complete[\"grade\"] == \"11th\")]\n",
    "twelfth_graders = school_data_complete[(school_data_complete[\"grade\"] == \"12th\")]\n",
    "\n",
    "# Group each by school name\n",
    "ninth_graders_scores = ninth_graders.groupby([\"school_name\"]).mean()[\"reading_score\"]\n",
    "tenth_graders_scores = tenth_graders.groupby([\"school_name\"]).mean()[\"reading_score\"]\n",
    "eleventh_graders_scores = eleventh_graders.groupby([\"school_name\"]).mean()[\"reading_score\"]\n",
    "twelfth_graders_scores = twelfth_graders.groupby([\"school_name\"]).mean()[\"reading_score\"]\n",
    "\n",
    "# Combine series into single data frame\n",
    "scores_by_grade = pd.DataFrame({\"9th\": ninth_graders_scores, \"10th\": tenth_graders_scores,\n",
    "                                \"11th\": eleventh_graders_scores, \"12th\": twelfth_graders_scores})\n",
    "\n",
    "# Minor data munging\n",
    "scores_by_grade = scores_by_grade[[\"9th\", \"10th\", \"11th\", \"12th\"]]\n",
    "scores_by_grade.index.name = None\n",
    "\n",
    "# Display the data frame\n",
    "scores_by_grade"
   ]
  },
  {
   "cell_type": "markdown",
   "metadata": {},
   "source": [
    "## Scores by School Spending"
   ]
  },
  {
   "cell_type": "code",
   "execution_count": null,
   "metadata": {},
   "outputs": [],
   "source": [
    "# Establish the bins \n",
    "spending_bins = [0, 585, 615, 645, 675]\n",
    "group_names = [\"<$585\", \"$585-615\", \"$615-645\", \"$645-675\"]\n",
    "\n",
    "# Categorize the spending based on the bins\n",
    "per_school_summary[\"Spending Ranges (Per Student)\"] = pd.cut(per_school_capita, spending_bins, labels=group_names)\n",
    "\n",
    "spending_math_scores = per_school_summary.groupby([\"Spending Ranges (Per Student)\"]).mean()[\"Average Math Score\"]\n",
    "spending_reading_scores = per_school_summary.groupby([\"Spending Ranges (Per Student)\"]).mean()[\"Average Reading Score\"]\n",
    "spending_passing_math = per_school_summary.groupby([\"Spending Ranges (Per Student)\"]).mean()[\"% Passing Math\"]\n",
    "spending_passing_reading = per_school_summary.groupby([\"Spending Ranges (Per Student)\"]).mean()[\"% Passing Reading\"]\n",
    "overall_passing_rate = (spending_passing_math + spending_passing_reading) / 2\n",
    "\n",
    "# Assemble into data frame\n",
    "spending_summary = pd.DataFrame({\"Average Math Score\" : spending_math_scores,\n",
    "                                 \"Average Reading Score\": spending_reading_scores,\n",
    "                                 \"% Passing Math\": spending_passing_math,\n",
    "                                 \"% Passing Reading\": spending_passing_reading,\n",
    "                                 \"% Overall Passing Rate\": overall_passing_rate})\n",
    "\n",
    "# Minor data munging\n",
    "spending_summary = spending_summary[[\"Average Math Score\", \n",
    "                                     \"Average Reading Score\", \n",
    "                                     \"% Passing Math\", \"% Passing Reading\",\n",
    "                                     \"% Overall Passing Rate\"]]\n",
    "\n",
    "# Display results\n",
    "spending_summary"
   ]
  },
  {
   "cell_type": "markdown",
   "metadata": {},
   "source": [
    "## Scores by School Size"
   ]
  },
  {
   "cell_type": "code",
   "execution_count": null,
   "metadata": {
    "scrolled": true
   },
   "outputs": [],
   "source": [
    "# Establish the bins \n",
    "size_bins = [0, 1000, 2000, 5000]\n",
    "group_names = [\"Small (<1000)\", \"Medium (1000-2000)\", \"Large (2000-5000)\"]\n",
    "\n",
    "# Categorize the spending based on the bins\n",
    "per_school_summary[\"School Size\"] = pd.cut(per_school_summary[\"Total Students\"], size_bins, labels=group_names)\n",
    "\n",
    "# Calculate the scores based on bins\n",
    "size_math_scores = per_school_summary.groupby([\"School Size\"]).mean()[\"Average Math Score\"]\n",
    "size_reading_scores = per_school_summary.groupby([\"School Size\"]).mean()[\"Average Reading Score\"]\n",
    "size_passing_math = per_school_summary.groupby([\"School Size\"]).mean()[\"% Passing Math\"]\n",
    "size_passing_reading = per_school_summary.groupby([\"School Size\"]).mean()[\"% Passing Reading\"]\n",
    "overall_passing_rate = (size_passing_math + size_passing_reading) / 2\n",
    "\n",
    "# Assemble into data frame\n",
    "size_summary = pd.DataFrame({\"Average Math Score\" : size_math_scores,\n",
    "                             \"Average Reading Score\": size_reading_scores,\n",
    "                             \"% Passing Math\": size_passing_math,\n",
    "                             \"% Passing Reading\": size_passing_reading,\n",
    "                             \"% Overall Passing Rate\": overall_passing_rate})\n",
    "\n",
    "# Minor data munging\n",
    "size_summary = size_summary[[\"Average Math Score\", \n",
    "                             \"Average Reading Score\", \n",
    "                             \"% Passing Math\", \"% Passing Reading\",\n",
    "                             \"% Overall Passing Rate\"]]\n",
    "\n",
    "# Display results\n",
    "size_summary"
   ]
  },
  {
   "cell_type": "markdown",
   "metadata": {},
   "source": [
    "## Scores by School Type"
   ]
  },
  {
   "cell_type": "code",
   "execution_count": null,
   "metadata": {},
   "outputs": [],
   "source": [
    "# Type | Average Math Score | Average Reading Score | % Passing Math | % Passing Reading | % Overall Passing Rate\n",
    "\n",
    "type_math_scores = per_school_summary.groupby([\"School Type\"]).mean()[\"Average Math Score\"]\n",
    "type_reading_scores = per_school_summary.groupby([\"School Type\"]).mean()[\"Average Reading Score\"]\n",
    "type_passing_math = per_school_summary.groupby([\"School Type\"]).mean()[\"% Passing Math\"]\n",
    "type_passing_reading = per_school_summary.groupby([\"School Type\"]).mean()[\"% Passing Reading\"]\n",
    "overall_passing_rate = (type_passing_math + type_passing_reading) / 2\n",
    "\n",
    "# Assemble into data frame\n",
    "type_summary = pd.DataFrame({\"Average Math Score\" : type_math_scores,\n",
    "                             \"Average Reading Score\": type_reading_scores,\n",
    "                             \"% Passing Math\": type_passing_math,\n",
    "                             \"% Passing Reading\": type_passing_reading,\n",
    "                             \"% Overall Passing Rate\": overall_passing_rate})\n",
    "\n",
    "# Minor data munging\n",
    "type_summary = type_summary[[\"Average Math Score\", \n",
    "                             \"Average Reading Score\",\n",
    "                             \"% Passing Math\",\n",
    "                             \"% Passing Reading\",\n",
    "                             \"% Overall Passing Rate\"]]\n",
    "\n",
    "# Display results\n",
    "type_summary"
   ]
  }
 ],
 "metadata": {
  "anaconda-cloud": {},
  "kernel_info": {
   "name": "python3"
  },
  "kernelspec": {
   "display_name": "Python 3",
   "language": "python",
   "name": "python3"
  },
  "language_info": {
   "codemirror_mode": {
    "name": "ipython",
    "version": 3
   },
   "file_extension": ".py",
   "mimetype": "text/x-python",
   "name": "python",
   "nbconvert_exporter": "python",
   "pygments_lexer": "ipython3",
   "version": "3.7.6"
  },
  "latex_envs": {
   "LaTeX_envs_menu_present": true,
   "autoclose": false,
   "autocomplete": true,
   "bibliofile": "biblio.bib",
   "cite_by": "apalike",
   "current_citInitial": 1,
   "eqLabelWithNumbers": true,
   "eqNumInitial": 1,
   "hotkeys": {
    "equation": "Ctrl-E",
    "itemize": "Ctrl-I"
   },
   "labels_anchors": false,
   "latex_user_defs": false,
   "report_style_numbering": false,
   "user_envs_cfg": false
  },
  "nteract": {
   "version": "0.8.4"
  }
 },
 "nbformat": 4,
 "nbformat_minor": 1
}
