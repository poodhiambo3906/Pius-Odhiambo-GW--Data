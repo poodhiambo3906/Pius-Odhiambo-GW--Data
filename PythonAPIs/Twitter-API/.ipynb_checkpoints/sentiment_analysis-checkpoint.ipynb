{
 "cells": [
  {
   "cell_type": "markdown",
   "metadata": {},
   "source": [
    "# sentimentanalysis.py "
   ]
  },
  {
   "cell_type": "code",
   "execution_count": 1,
   "metadata": {
    "scrolled": true
   },
   "outputs": [
    {
     "name": "stdout",
     "output_type": "stream",
     "text": [
      "Requirement already satisfied: tweepy in c:\\users\\poodh\\anaconda3\\lib\\site-packages (3.8.0)\n",
      "Requirement already satisfied: requests>=2.11.1 in c:\\users\\poodh\\anaconda3\\lib\\site-packages (from tweepy) (2.22.0)\n",
      "Requirement already satisfied: six>=1.10.0 in c:\\users\\poodh\\anaconda3\\lib\\site-packages (from tweepy) (1.14.0)\n",
      "Requirement already satisfied: PySocks>=1.5.7 in c:\\users\\poodh\\anaconda3\\lib\\site-packages (from tweepy) (1.7.1)\n",
      "Requirement already satisfied: requests-oauthlib>=0.7.0 in c:\\users\\poodh\\anaconda3\\lib\\site-packages (from tweepy) (1.3.0)\n",
      "Requirement already satisfied: chardet<3.1.0,>=3.0.2 in c:\\users\\poodh\\anaconda3\\lib\\site-packages (from requests>=2.11.1->tweepy) (3.0.4)\n",
      "Requirement already satisfied: urllib3!=1.25.0,!=1.25.1,<1.26,>=1.21.1 in c:\\users\\poodh\\anaconda3\\lib\\site-packages (from requests>=2.11.1->tweepy) (1.25.8)\n",
      "Requirement already satisfied: certifi>=2017.4.17 in c:\\users\\poodh\\anaconda3\\lib\\site-packages (from requests>=2.11.1->tweepy) (2019.11.28)\n",
      "Requirement already satisfied: idna<2.9,>=2.5 in c:\\users\\poodh\\anaconda3\\lib\\site-packages (from requests>=2.11.1->tweepy) (2.8)\n",
      "Requirement already satisfied: oauthlib>=3.0.0 in c:\\users\\poodh\\anaconda3\\lib\\site-packages (from requests-oauthlib>=0.7.0->tweepy) (3.1.0)\n"
     ]
    }
   ],
   "source": [
    "!pip install tweepy"
   ]
  },
  {
   "cell_type": "code",
   "execution_count": 2,
   "metadata": {
    "scrolled": true
   },
   "outputs": [
    {
     "name": "stdout",
     "output_type": "stream",
     "text": [
      "Collecting textblob\n",
      "  Downloading textblob-0.15.3-py2.py3-none-any.whl (636 kB)\n",
      "Requirement already satisfied: nltk>=3.1 in c:\\users\\poodh\\anaconda3\\lib\\site-packages (from textblob) (3.4.5)\n",
      "Requirement already satisfied: six in c:\\users\\poodh\\anaconda3\\lib\\site-packages (from nltk>=3.1->textblob) (1.14.0)\n",
      "Installing collected packages: textblob\n",
      "Successfully installed textblob-0.15.3\n"
     ]
    }
   ],
   "source": [
    "!pip install textblob"
   ]
  },
  {
   "cell_type": "code",
   "execution_count": null,
   "metadata": {},
   "outputs": [],
   "source": [
    "pip"
   ]
  },
  {
   "cell_type": "code",
   "execution_count": 3,
   "metadata": {},
   "outputs": [
    {
     "ename": "ModuleNotFoundError",
     "evalue": "No module named 'api_keys'",
     "output_type": "error",
     "traceback": [
      "\u001b[1;31m---------------------------------------------------------------------------\u001b[0m",
      "\u001b[1;31mModuleNotFoundError\u001b[0m                       Traceback (most recent call last)",
      "\u001b[1;32m<ipython-input-3-143797ef6c0e>\u001b[0m in \u001b[0;36m<module>\u001b[1;34m\u001b[0m\n\u001b[0;32m     10\u001b[0m \u001b[1;32mimport\u001b[0m \u001b[0mtweepy\u001b[0m \u001b[1;32mas\u001b[0m \u001b[0mtweepy\u001b[0m\u001b[1;33m\u001b[0m\u001b[1;33m\u001b[0m\u001b[0m\n\u001b[0;32m     11\u001b[0m \u001b[1;32mimport\u001b[0m \u001b[0mmatplotlib\u001b[0m\u001b[1;33m.\u001b[0m\u001b[0mpyplot\u001b[0m \u001b[1;32mas\u001b[0m \u001b[0mplt\u001b[0m\u001b[1;33m\u001b[0m\u001b[1;33m\u001b[0m\u001b[0m\n\u001b[1;32m---> 12\u001b[1;33m \u001b[1;32mimport\u001b[0m \u001b[0mapi_keys\u001b[0m\u001b[1;33m\u001b[0m\u001b[1;33m\u001b[0m\u001b[0m\n\u001b[0m\u001b[0;32m     13\u001b[0m \u001b[1;33m\u001b[0m\u001b[0m\n\u001b[0;32m     14\u001b[0m \u001b[1;33m\u001b[0m\u001b[0m\n",
      "\u001b[1;31mModuleNotFoundError\u001b[0m: No module named 'api_keys'"
     ]
    }
   ],
   "source": [
    "\n",
    "# Dependencies\n",
    "%matplotlib inline\n",
    "import pandas as pd\n",
    "import numpy as np\n",
    "import textblob\n",
    "import json\n",
    "import time\n",
    "import warnings\n",
    "warnings.filterwarnings(\"ignore\")\n",
    "import tweepy as tweepy\n",
    "import matplotlib.pyplot as plt\n",
    "import api_keys\n",
    "\n",
    " \n",
    "\n"
   ]
  },
  {
   "cell_type": "code",
   "execution_count": 4,
   "metadata": {},
   "outputs": [
    {
     "name": "stdout",
     "output_type": "stream",
     "text": [
      "Requirement already satisfied: vaderSentiment in c:\\users\\poodh\\anaconda3\\lib\\site-packages (3.3.1)\n"
     ]
    }
   ],
   "source": [
    "!pip install vaderSentiment"
   ]
  },
  {
   "cell_type": "code",
   "execution_count": 5,
   "metadata": {},
   "outputs": [],
   "source": [
    "# Sentiment Analyzer Setup\n",
    "from textblob import TextBlob\n",
    "from vaderSentiment.vaderSentiment import SentimentIntensityAnalyzer\n",
    "analyzer = SentimentIntensityAnalyzer()\n"
   ]
  },
  {
   "cell_type": "code",
   "execution_count": 6,
   "metadata": {},
   "outputs": [],
   "source": [
    "#Twitter account credentitials assigned\n",
    "log = pd.read_csv('login.csv')"
   ]
  },
  {
   "cell_type": "code",
   "execution_count": 7,
   "metadata": {},
   "outputs": [],
   "source": [
    "# Twitter API credentials\n",
    "consumerKey = log['key'][0]\n",
    "consumerSecret = log['key'][1]\n",
    "accessToken = log['key'][2]\n",
    "accessTokenSecret = log['key'][3]"
   ]
  },
  {
   "cell_type": "code",
   "execution_count": 8,
   "metadata": {},
   "outputs": [],
   "source": [
    "#create the authentication object\n",
    "authenticate = tweepy.OAuthHandler(consumerKey, consumerSecret)\n",
    "\n",
    "#set the access token and access token secret\n",
    "authenticate.set_access_token(accessToken, accessTokenSecret)\n",
    "\n",
    "#create the API object\n",
    "api = tweepy.API(authenticate, parser=tweepy.parsers.JSONParser())"
   ]
  },
  {
   "cell_type": "markdown",
   "metadata": {},
   "source": [
    "# obtain data from tweets"
   ]
  },
  {
   "cell_type": "code",
   "execution_count": 9,
   "metadata": {
    "scrolled": true
   },
   "outputs": [],
   "source": [
    "#\n",
    "newsOutlets = [\"BBCWorld\", \"CNN\",\"nytimes\",\"CBSNews\",\"FoxNews\"]\n",
    "\n",
    "# Create a dictionary for holding the tweets\n",
    "data = {\n",
    "    \"NewsSource\": [],\n",
    "    \"tweetText\": [],\n",
    "    \"tweetDate\": [],\n",
    "    \"tweetVaderScore\": [],\n",
    "    \"tweetNegativeScore\": [],\n",
    "    \"tweetPositiveScore\": [],\n",
    "    \"tweetNeutralScore\": []\n",
    "}\n",
    "\n",
    "# sourcing last 100 tweets for each outlets\n",
    "for x in range(5):\n",
    "    for s in newsOutlets:\n",
    "        tweets = api.user_timeline(s, page=x)\n",
    "\n",
    "        # tweet stored into dictionary for each tweet\n",
    "        for tweet in tweets:\n",
    "            \n",
    "            # data from the JSON returned by Twitter\n",
    "            data[\"NewsSource\"].append(tweet[\"user\"][\"name\"])\n",
    "            data[\"tweetText\"].append(tweet[\"text\"])\n",
    "            data[\"tweetDate\"].append(tweet[\"created_at\"])\n",
    "\n",
    "            # using Vader run sentiment analysis on each tweet record\n",
    "            data[\"tweetVaderScore\"].append(analyzer.polarity_scores(tweet[\"text\"])[\"compound\"])\n",
    "            data[\"tweetPositiveScore\"].append(analyzer.polarity_scores(tweet[\"text\"])[\"pos\"])\n",
    "            data[\"tweetNeutralScore\"].append(analyzer.polarity_scores(tweet[\"text\"])[\"neu\"])\n",
    "            data[\"tweetNegativeScore\"].append(analyzer.polarity_scores(tweet[\"text\"])[\"neg\"])"
   ]
  },
  {
   "cell_type": "markdown",
   "metadata": {},
   "source": [
    "# Exporting DataFrame to Analysis Folder"
   ]
  },
  {
   "cell_type": "code",
   "execution_count": 10,
   "metadata": {},
   "outputs": [
    {
     "data": {
      "text/html": [
       "<div>\n",
       "<style scoped>\n",
       "    .dataframe tbody tr th:only-of-type {\n",
       "        vertical-align: middle;\n",
       "    }\n",
       "\n",
       "    .dataframe tbody tr th {\n",
       "        vertical-align: top;\n",
       "    }\n",
       "\n",
       "    .dataframe thead th {\n",
       "        text-align: right;\n",
       "    }\n",
       "</style>\n",
       "<table border=\"1\" class=\"dataframe\">\n",
       "  <thead>\n",
       "    <tr style=\"text-align: right;\">\n",
       "      <th></th>\n",
       "      <th>NewsSource</th>\n",
       "      <th>tweetText</th>\n",
       "      <th>tweetNeutralScore</th>\n",
       "      <th>tweetVaderScore</th>\n",
       "      <th>tweetPositiveScore</th>\n",
       "      <th>tweetNegativeScore</th>\n",
       "      <th>tweetDate</th>\n",
       "    </tr>\n",
       "  </thead>\n",
       "  <tbody>\n",
       "    <tr>\n",
       "      <th>0</th>\n",
       "      <td>BBC News (World)</td>\n",
       "      <td>Rare sighting of a waterspout in County Kerry ...</td>\n",
       "      <td>1.000</td>\n",
       "      <td>0.0000</td>\n",
       "      <td>0.000</td>\n",
       "      <td>0.000</td>\n",
       "      <td>Sat Aug 29 07:59:19 +0000 2020</td>\n",
       "    </tr>\n",
       "    <tr>\n",
       "      <th>1</th>\n",
       "      <td>BBC News (World)</td>\n",
       "      <td>RT @BBCWorld: Hurricane Laura death toll climb...</td>\n",
       "      <td>0.755</td>\n",
       "      <td>-0.5994</td>\n",
       "      <td>0.000</td>\n",
       "      <td>0.245</td>\n",
       "      <td>Sat Aug 29 07:50:01 +0000 2020</td>\n",
       "    </tr>\n",
       "    <tr>\n",
       "      <th>2</th>\n",
       "      <td>BBC News (World)</td>\n",
       "      <td>RT @BBCWorld: Bihar: Destroyed lives and subme...</td>\n",
       "      <td>0.775</td>\n",
       "      <td>-0.4939</td>\n",
       "      <td>0.000</td>\n",
       "      <td>0.225</td>\n",
       "      <td>Sat Aug 29 07:49:50 +0000 2020</td>\n",
       "    </tr>\n",
       "    <tr>\n",
       "      <th>3</th>\n",
       "      <td>BBC News (World)</td>\n",
       "      <td>RT @BBCWorld: France sees \"exponential\" rise i...</td>\n",
       "      <td>1.000</td>\n",
       "      <td>0.0000</td>\n",
       "      <td>0.000</td>\n",
       "      <td>0.000</td>\n",
       "      <td>Sat Aug 29 07:32:00 +0000 2020</td>\n",
       "    </tr>\n",
       "    <tr>\n",
       "      <th>4</th>\n",
       "      <td>BBC News (World)</td>\n",
       "      <td>Tito Mboweni: South Africa's finance minster k...</td>\n",
       "      <td>0.788</td>\n",
       "      <td>-0.5423</td>\n",
       "      <td>0.000</td>\n",
       "      <td>0.212</td>\n",
       "      <td>Sat Aug 29 07:07:32 +0000 2020</td>\n",
       "    </tr>\n",
       "    <tr>\n",
       "      <th>5</th>\n",
       "      <td>BBC News (World)</td>\n",
       "      <td>Chadwick Boseman: Tributes pour in for Black P...</td>\n",
       "      <td>1.000</td>\n",
       "      <td>0.0000</td>\n",
       "      <td>0.000</td>\n",
       "      <td>0.000</td>\n",
       "      <td>Sat Aug 29 06:58:32 +0000 2020</td>\n",
       "    </tr>\n",
       "    <tr>\n",
       "      <th>6</th>\n",
       "      <td>BBC News (World)</td>\n",
       "      <td>Black Panther star Chadwick Boseman dies of ca...</td>\n",
       "      <td>0.645</td>\n",
       "      <td>-0.6597</td>\n",
       "      <td>0.000</td>\n",
       "      <td>0.355</td>\n",
       "      <td>Sat Aug 29 02:24:01 +0000 2020</td>\n",
       "    </tr>\n",
       "    <tr>\n",
       "      <th>7</th>\n",
       "      <td>BBC News (World)</td>\n",
       "      <td>Hurricane Laura death toll climbs to 14 in the...</td>\n",
       "      <td>0.719</td>\n",
       "      <td>-0.5994</td>\n",
       "      <td>0.000</td>\n",
       "      <td>0.281</td>\n",
       "      <td>Sat Aug 29 01:02:56 +0000 2020</td>\n",
       "    </tr>\n",
       "    <tr>\n",
       "      <th>8</th>\n",
       "      <td>BBC News (World)</td>\n",
       "      <td>Bihar: Destroyed lives and submerged homes in ...</td>\n",
       "      <td>0.738</td>\n",
       "      <td>-0.4939</td>\n",
       "      <td>0.000</td>\n",
       "      <td>0.262</td>\n",
       "      <td>Sat Aug 29 00:26:58 +0000 2020</td>\n",
       "    </tr>\n",
       "    <tr>\n",
       "      <th>9</th>\n",
       "      <td>BBC News (World)</td>\n",
       "      <td>Amazon fires: Are they worse this year than be...</td>\n",
       "      <td>0.625</td>\n",
       "      <td>-0.3400</td>\n",
       "      <td>0.133</td>\n",
       "      <td>0.242</td>\n",
       "      <td>Fri Aug 28 23:14:57 +0000 2020</td>\n",
       "    </tr>\n",
       "  </tbody>\n",
       "</table>\n",
       "</div>"
      ],
      "text/plain": [
       "         NewsSource                                          tweetText  \\\n",
       "0  BBC News (World)  Rare sighting of a waterspout in County Kerry ...   \n",
       "1  BBC News (World)  RT @BBCWorld: Hurricane Laura death toll climb...   \n",
       "2  BBC News (World)  RT @BBCWorld: Bihar: Destroyed lives and subme...   \n",
       "3  BBC News (World)  RT @BBCWorld: France sees \"exponential\" rise i...   \n",
       "4  BBC News (World)  Tito Mboweni: South Africa's finance minster k...   \n",
       "5  BBC News (World)  Chadwick Boseman: Tributes pour in for Black P...   \n",
       "6  BBC News (World)  Black Panther star Chadwick Boseman dies of ca...   \n",
       "7  BBC News (World)  Hurricane Laura death toll climbs to 14 in the...   \n",
       "8  BBC News (World)  Bihar: Destroyed lives and submerged homes in ...   \n",
       "9  BBC News (World)  Amazon fires: Are they worse this year than be...   \n",
       "\n",
       "   tweetNeutralScore  tweetVaderScore  tweetPositiveScore  tweetNegativeScore  \\\n",
       "0              1.000           0.0000               0.000               0.000   \n",
       "1              0.755          -0.5994               0.000               0.245   \n",
       "2              0.775          -0.4939               0.000               0.225   \n",
       "3              1.000           0.0000               0.000               0.000   \n",
       "4              0.788          -0.5423               0.000               0.212   \n",
       "5              1.000           0.0000               0.000               0.000   \n",
       "6              0.645          -0.6597               0.000               0.355   \n",
       "7              0.719          -0.5994               0.000               0.281   \n",
       "8              0.738          -0.4939               0.000               0.262   \n",
       "9              0.625          -0.3400               0.133               0.242   \n",
       "\n",
       "                        tweetDate  \n",
       "0  Sat Aug 29 07:59:19 +0000 2020  \n",
       "1  Sat Aug 29 07:50:01 +0000 2020  \n",
       "2  Sat Aug 29 07:49:50 +0000 2020  \n",
       "3  Sat Aug 29 07:32:00 +0000 2020  \n",
       "4  Sat Aug 29 07:07:32 +0000 2020  \n",
       "5  Sat Aug 29 06:58:32 +0000 2020  \n",
       "6  Sat Aug 29 02:24:01 +0000 2020  \n",
       "7  Sat Aug 29 01:02:56 +0000 2020  \n",
       "8  Sat Aug 29 00:26:58 +0000 2020  \n",
       "9  Fri Aug 28 23:14:57 +0000 2020  "
      ]
     },
     "execution_count": 10,
     "metadata": {},
     "output_type": "execute_result"
    }
   ],
   "source": [
    "# creat DataFrame\n",
    "df = pd.DataFrame(data, columns=[\"NewsSource\", \"tweetText\", \"tweetNeutralScore\", \"tweetVaderScore\",\"tweetPositiveScore\",\"tweetNegativeScore\",\"tweetDate\"])\n",
    "\n",
    "# Export to CSV\n",
    "fileName = str(time.strftime(\"%m-%d-%y\")) + \"_tweets.csv\"\n",
    "df.to_csv(\"analysis/\" + fileName, encoding=\"utf-8\")\n",
    "\n",
    "# Visualize the DataFrame\n",
    "df.head(10)"
   ]
  },
  {
   "cell_type": "markdown",
   "metadata": {},
   "source": [
    "# Confirmation of records return by loop"
   ]
  },
  {
   "cell_type": "code",
   "execution_count": 11,
   "metadata": {},
   "outputs": [
    {
     "data": {
      "text/plain": [
       "NewsSource            500\n",
       "tweetText             500\n",
       "tweetNeutralScore     500\n",
       "tweetVaderScore       500\n",
       "tweetPositiveScore    500\n",
       "tweetNegativeScore    500\n",
       "tweetDate             500\n",
       "dtype: int64"
      ]
     },
     "execution_count": 11,
     "metadata": {},
     "output_type": "execute_result"
    }
   ],
   "source": [
    "# Count of total tweets pulled\n",
    "df.count()"
   ]
  },
  {
   "cell_type": "markdown",
   "metadata": {},
   "source": [
    "# Sentiment Scatter Plot"
   ]
  },
  {
   "cell_type": "code",
   "execution_count": 12,
   "metadata": {
    "scrolled": false
   },
   "outputs": [
    {
     "data": {
      "image/png": "[encoded data removed]",
      "text/plain": [
       "<Figure size 432x288 with 1 Axes>"
      ]
     },
     "metadata": {
      "needs_background": "light"
     },
     "output_type": "display_data"
    }
   ],
   "source": [
    "# Build scatter plot for tracking tweet polarity by tweet history\n",
    "#BBC\n",
    "plt.scatter(np.arange(-len(df[df[\"NewsSource\"] == \"BBC News (World)\"]), 0, 1), \n",
    "            df[df[\"NewsSource\"] == \"BBC News (World)\"][\"tweetVaderScore\"],\n",
    "            edgecolor=\"black\", linewidths=1, marker=\"o\", color=\"blue\", s=75,\n",
    "            alpha=0.8, label=\"BBC\")\n",
    "\n",
    "#CBS NEWS\n",
    "plt.scatter(np.arange(-len(df[df[\"NewsSource\"] == \"CBS News\"]), 0, 1), \n",
    "            df[df[\"NewsSource\"] == \"CBS News\"][\"tweetVaderScore\"],\n",
    "            edgecolor=\"black\", linewidths=1, marker=\"o\", color=\"purple\", s=75,\n",
    "            alpha=0.8, label=\"CBS\")\n",
    "\n",
    "#CNN\n",
    "plt.scatter(np.arange(-len(df[df[\"NewsSource\"] == \"CNN\"]), 0, 1), \n",
    "            df[df[\"NewsSource\"] == \"CNN\"][\"tweetVaderScore\"],\n",
    "            edgecolor=\"black\", linewidths=1, marker=\"o\", color=\"violet\", s=75,\n",
    "            alpha=0.8, label=\"CNN\")\n",
    "\n",
    "#FOX NEWS\n",
    "plt.scatter(np.arange(-len(df[df[\"NewsSource\"] == \"Fox News\"]), 0, 1), \n",
    "            df[df[\"NewsSource\"] == \"Fox News\"][\"tweetVaderScore\"],\n",
    "            edgecolor=\"black\", linewidths=1, marker=\"o\", color=\"grey\", s=75,\n",
    "            alpha=0.8, label=\"Fox\")\n",
    "\n",
    "\n",
    "#NEWYORK TIMES\n",
    "plt.scatter(np.arange(-len(df[df[\"NewsSource\"] == \"The New York Times\"]), 0, 1), \n",
    "            df[df[\"NewsSource\"] == \"The New York Times\"][\"tweetVaderScore\"],\n",
    "            edgecolor=\"black\", linewidths=1, marker=\"o\", color=\"brown\", s=75,\n",
    "            alpha=0.8, label=\"New York Times\")\n",
    "\n",
    "# plot labeling\n",
    "plt.title(\"Sentiment Analysis of Media Tweets (%s)\" % time.strftime(\"%x\"))\n",
    "plt.ylabel(\"Tweet Polarity\")\n",
    "plt.xlabel(\"Tweets Ago\")\n",
    "plt.xlim([-105, 5])\n",
    "plt.xticks([-100, -80, -60, -40, -20, 0], [100, 80, 60, 40, 20, 0])\n",
    "plt.ylim([-1.05, 1.05])\n",
    "plt.grid(True)\n",
    "\n",
    "# Create legend\n",
    "lgnd = plt.legend(fontsize=\"medium\", mode=\"Expanded\", \n",
    "                  numpoints=1, scatterpoints=1, \n",
    "                  loc=\"upper left\", bbox_to_anchor=(1,1), title=\"News Outlets\", \n",
    "                  labelspacing=0.5)\n",
    "\n",
    "# Save the figure (and account for the legend being outside the plot when saving)\n",
    "file_name = str(time.strftime(\"%m-%d-%y\")) + \"_Fig1.png\"\n",
    "plt.savefig(\"analysis/\" + file_name, bbox_extra_artists=(lgnd, ), bbox_inches='tight')\n",
    "\n",
    "# Show plot\n",
    "plt.show()"
   ]
  },
  {
   "cell_type": "markdown",
   "metadata": {},
   "source": [
    "## Overall Sentiment Bar Graph"
   ]
  },
  {
   "cell_type": "code",
   "execution_count": 13,
   "metadata": {},
   "outputs": [
    {
     "data": {
      "text/html": [
       "<div>\n",
       "<style scoped>\n",
       "    .dataframe tbody tr th:only-of-type {\n",
       "        vertical-align: middle;\n",
       "    }\n",
       "\n",
       "    .dataframe tbody tr th {\n",
       "        vertical-align: top;\n",
       "    }\n",
       "\n",
       "    .dataframe thead th {\n",
       "        text-align: right;\n",
       "    }\n",
       "</style>\n",
       "<table border=\"1\" class=\"dataframe\">\n",
       "  <thead>\n",
       "    <tr style=\"text-align: right;\">\n",
       "      <th></th>\n",
       "      <th>tweetVaderScore</th>\n",
       "    </tr>\n",
       "    <tr>\n",
       "      <th>NewsSource</th>\n",
       "      <th></th>\n",
       "    </tr>\n",
       "  </thead>\n",
       "  <tbody>\n",
       "    <tr>\n",
       "      <th>BBC News (World)</th>\n",
       "      <td>-0.124978</td>\n",
       "    </tr>\n",
       "    <tr>\n",
       "      <th>CBS News</th>\n",
       "      <td>-0.139086</td>\n",
       "    </tr>\n",
       "    <tr>\n",
       "      <th>CNN</th>\n",
       "      <td>-0.111768</td>\n",
       "    </tr>\n",
       "    <tr>\n",
       "      <th>Fox News</th>\n",
       "      <td>0.000000</td>\n",
       "    </tr>\n",
       "    <tr>\n",
       "      <th>The New York Times</th>\n",
       "      <td>-0.014831</td>\n",
       "    </tr>\n",
       "  </tbody>\n",
       "</table>\n",
       "</div>"
      ],
      "text/plain": [
       "                    tweetVaderScore\n",
       "NewsSource                         \n",
       "BBC News (World)          -0.124978\n",
       "CBS News                  -0.139086\n",
       "CNN                       -0.111768\n",
       "Fox News                   0.000000\n",
       "The New York Times        -0.014831"
      ]
     },
     "execution_count": 13,
     "metadata": {},
     "output_type": "execute_result"
    }
   ],
   "source": [
    "# Average all polarities by news source\n",
    "df_polarity = df.groupby([\"NewsSource\"]).mean()[\"tweetVaderScore\"]\n",
    "\n",
    "# View the polarities\n",
    "pd.DataFrame(df_polarity)"
   ]
  },
  {
   "cell_type": "markdown",
   "metadata": {},
   "source": [
    "# Tweet Polarity Measurement"
   ]
  },
  {
   "cell_type": "code",
   "execution_count": 14,
   "metadata": {
    "scrolled": false
   },
   "outputs": [
    {
     "data": {
      "image/png": "[encoded data removed]",
      "text/plain": [
       "<Figure size 432x288 with 1 Axes>"
      ]
     },
     "metadata": {
      "needs_background": "light"
     },
     "output_type": "display_data"
    }
   ],
   "source": [
    "\n",
    "tweets_polarity = (df_polarity[\"BBC News (World)\"], \n",
    "                    df_polarity[\"CBS News\"], \n",
    "                    df_polarity[\"CNN\"], \n",
    "                    df_polarity[\"Fox News\"],\n",
    "                    df_polarity[\"The New York Times\"])\n",
    "\n",
    "# create bar chart for polarity score\n",
    "fig, ax = plt.subplots()\n",
    "ind = np.arange(len(tweets_polarity))  \n",
    "width = 1\n",
    "rect1 = ax.bar(ind[0], tweets_polarity[0], width, color=\"blue\")\n",
    "rect2 = ax.bar(ind[1], tweets_polarity[1], width, color=\"purple\")\n",
    "rect3 = ax.bar(ind[2], tweets_polarity[2], width, color=\"violet\")\n",
    "rect4 = ax.bar(ind[3], tweets_polarity[3], width, color='grey')\n",
    "rect5 = ax.bar(ind[4], tweets_polarity[4], width, color='brown')\n",
    "\n",
    "# labels for news news outline\n",
    "def autolabelpos(rects):\n",
    "    # attach some text labels\n",
    "    for rect in rects:\n",
    "        height = rect.get_height()\n",
    "        ax.text(rect.get_x() + rect.get_width()/2., 1*height,\n",
    "                '+%.2f' % float(height),\n",
    "                ha='center', va='bottom')\n",
    "\n",
    "def autolabelneg(rects):\n",
    "    # attach some text labels\n",
    "    for rect in rects:\n",
    "        height = rect.get_height()\n",
    "        ax.text(rect.get_x() + rect.get_width()/2., -1*height-0.015,\n",
    "                '-%.2f' % float(height),\n",
    "                ha='center', va='bottom')\n",
    "    \n",
    "autolabelpos(rect1)\n",
    "autolabelneg(rect2)\n",
    "autolabelneg(rect3)\n",
    "autolabelpos(rect4)\n",
    "autolabelneg(rect5)\n",
    "\n",
    "# Orient widths, add labels, tick marks, etc. \n",
    "ax.set_ylabel(\"Tweet Polarity\")\n",
    "ax.set_title(\"Media Sentiment based on Twitter (%s) \" % (time.strftime(\"%x\")))\n",
    "ax.set_xticks(ind + 0.5)\n",
    "ax.set_xticklabels((\"BBC\", \"CBS\", \"CNN\", \"Fox\", \"NYT\"))\n",
    "ax.set_autoscaley_on(True)\n",
    "ax.grid(False)\n",
    "\n",
    "# Save Figure\n",
    "file_name = str(time.strftime(\"%m-%d-%y\")) + \"-Fig2.png\"\n",
    "plt.savefig(\"analysis/\" + file_name, bbox_extra_artists=(lgnd, ), bbox_inches='tight')\n",
    "\n",
    "# Show Figure\n",
    "fig.show()"
   ]
  },
  {
   "cell_type": "markdown",
   "metadata": {},
   "source": [
    "# description of three observable trends based on the data"
   ]
  },
  {
   "cell_type": "markdown",
   "metadata": {},
   "source": [
    "1. The sentiment shows that as at the time of sourcing the data, the all news outlets got negative sentiments except New York Time which tweets are identifed neutral to be Nuetral.\n",
    "\n",
    "2. CBS is ranked highest on negativity.\n",
    "\n",
    "3. From the Sentiment Analysis of Media Tweets in fig1, FOX anf New York Times are not popuplar for negativity"
   ]
  },
  {
   "cell_type": "code",
   "execution_count": null,
   "metadata": {},
   "outputs": [],
   "source": []
  },
  {
   "cell_type": "code",
   "execution_count": null,
   "metadata": {},
   "outputs": [],
   "source": []
  }
 ],
 "metadata": {
  "anaconda-cloud": {},
  "kernel_info": {
   "name": "py36"
  },
  "kernelspec": {
   "display_name": "Python 3",
   "language": "python",
   "name": "python3"
  },
  "language_info": {
   "codemirror_mode": {
    "name": "ipython",
    "version": 3
   },
   "file_extension": ".py",
   "mimetype": "text/x-python",
   "name": "python",
   "nbconvert_exporter": "python",
   "pygments_lexer": "ipython3",
   "version": "3.7.6"
  },
  "nteract": {
   "version": "0.2.0"
  }
 },
 "nbformat": 4,
 "nbformat_minor": 1
}
